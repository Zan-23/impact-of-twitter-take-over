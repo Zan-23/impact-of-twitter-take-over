{
 "cells": [
  {
   "cell_type": "markdown",
   "id": "e35ef9eb",
   "metadata": {},
   "source": [
    "# Comparison of raw text toxicity vs toxicity of the preprocessed text\n",
    "Notebook where we produce most of final figures with the TUM colors, and did a basic t-test to test pre and post take over hypothesises."
   ]
  },
  {
   "cell_type": "code",
   "execution_count": null,
   "id": "1626e7e9",
   "metadata": {},
   "outputs": [],
   "source": [
    "%reload_ext autoreload\n",
    "%autoreload 2\n",
    "\n",
    "import os \n",
    "import sys\n",
    "import pandas as pd\n",
    "import numpy as np\n",
    "import plotly \n",
    "import plotly.graph_objects as go\n",
    "import time\n",
    "\n",
    "\n",
    "try:\n",
    "    print(run_only_once)\n",
    "except Exception as e:\n",
    "    print(os.getcwd())\n",
    "    os.chdir(\"./../../../\")\n",
    "    print(os.getcwd())\n",
    "    run_only_once = \"Dir has already been changed\""
   ]
  },
  {
   "cell_type": "code",
   "execution_count": null,
   "id": "34c9bced",
   "metadata": {},
   "outputs": [],
   "source": [
    "files_list = ['fitness_hashtag_merged.csv', 'musk_hashtag_merged.csv', \n",
    "              'netflix_hashtag_merged.csv', 'trump_hashtag_merged.csv', \n",
    "              'uno_hashtag_merged.csv', 'vegan_hashtag_merged.csv', \n",
    "              'vegetarian_hashtag_merged.csv']\n",
    "\n",
    "tum_colors = [\"#165DB1\", \"#C7D97D\", \"#F7811E\", \"#FED702\", \"#B55CA5\", \"#6A757E\"]\n",
    "tox_cols = [\"toxicity\", \"severe_toxicity\", \"obscene\", \"threat\", \"insult\", \"identity_attack\"]\n",
    "tox_cols_raw = [f\"normal_{i}\" for i in tox_cols]\n",
    "tox_cols_preprocessed = [f\"lemma_{i}\" for i in tox_cols]\n",
    "\n",
    "meta_cols = [\"retweet_count\", \"reply_count\", \"like_count\", \"quote_count\", \"created_at\"]\n",
    "\n",
    "def get_prepared_df_for_file(file_name):\n",
    "    df = pd.read_csv(f\"./data/preprocessed/{file_name}\")\n",
    "    df[\"created_at\"] = pd.to_datetime(df[\"created_at\"])\n",
    "    return df"
   ]
  },
  {
   "cell_type": "markdown",
   "id": "1cc4b2af",
   "metadata": {},
   "source": [
    "Link to the page where all events correlated to the takeover are listed:    \n",
    "   \n",
    "https://www.searchenginejournal.com/elon-musks-twitter-takeover-a-timeline-of-events/470927/#close\n",
    "\n",
    "## Load all the data files into a single one"
   ]
  },
  {
   "cell_type": "code",
   "execution_count": null,
   "id": "e5328d71",
   "metadata": {},
   "outputs": [],
   "source": [
    "def merge_data_files_into_one_df(files_list):\n",
    "    comparison_list = []\n",
    "    tweet_count = 0\n",
    "    for file_name in files_list:\n",
    "        hashtag_name = file_name.split(\"_\")[0]\n",
    "        print(f\"For hashtag {hashtag_name}, from file {file_name}\")\n",
    "        tweets_df = get_prepared_df_for_file(file_name)\n",
    "        tweet_count += len(tweets_df.index)\n",
    "\n",
    "        # group by date \n",
    "        comparison_list.append(tweets_df)\n",
    "        # figure_list.append(tweets_df)\n",
    "     \n",
    "    merged_df = pd.concat(comparison_list, ignore_index=True) \n",
    "    print(f\"There is {tweet_count} tweets in all files together!\")\n",
    "    return merged_df\n",
    "combined_data_df = merge_data_files_into_one_df(files_list)"
   ]
  },
  {
   "cell_type": "markdown",
   "id": "6907732f",
   "metadata": {},
   "source": [
    "## Most toxic tweets in the dataset and toxicity summaries"
   ]
  },
  {
   "cell_type": "code",
   "execution_count": null,
   "id": "e3f4361c",
   "metadata": {},
   "outputs": [],
   "source": [
    "# most toxic tweets\n",
    "import dataframe_image as dfi\n",
    "pd.set_option('display.max_colwidth', None)\n",
    "combined_data_df.nlargest(10, columns=\"lemma_toxicity\")[[\"text\", \"processed_text\", \"lemma_toxicity\"]]"
   ]
  },
  {
   "cell_type": "code",
   "execution_count": null,
   "id": "993fe92a",
   "metadata": {},
   "outputs": [],
   "source": [
    "raw_stats = combined_data_df[tox_cols_raw].describe()\n",
    "raw_stats"
   ]
  },
  {
   "cell_type": "code",
   "execution_count": null,
   "id": "3ccd0235",
   "metadata": {},
   "outputs": [],
   "source": [
    "processed_stats = combined_data_df[tox_cols_preprocessed].describe()\n",
    "processed_stats"
   ]
  },
  {
   "cell_type": "code",
   "execution_count": null,
   "id": "eb42623e",
   "metadata": {},
   "outputs": [],
   "source": []
  },
  {
   "cell_type": "markdown",
   "id": "b3fa65db",
   "metadata": {},
   "source": [
    "## Compare the average of toxicity metrics for raw and lemmatized text"
   ]
  },
  {
   "cell_type": "code",
   "execution_count": null,
   "id": "d8bb9cfe",
   "metadata": {
    "scrolled": true
   },
   "outputs": [],
   "source": [
    "# plot every every statistic for every metric for raw and preprocessed \n",
    "for metric in list(processed_stats.index)[1:-1]:\n",
    "    trace_list = []\n",
    "    print(metric)\n",
    "    raw_metric = raw_stats.loc[metric][tox_cols_raw]\n",
    "    proc_metric = processed_stats.loc[metric][tox_cols_preprocessed]\n",
    "\n",
    "    trace_list.append(go.Bar(name='Raw text', x=tox_cols, y=raw_metric, marker_color='#005293'))\n",
    "    trace_list.append(go.Bar(name='Preprocessed text', x=tox_cols, y=proc_metric, marker_color='#e37222'))\n",
    "    \n",
    "    fig = go.Figure(data=trace_list)\n",
    "    # Change the bar mode\n",
    "    fig.update_layout(barmode='group')\n",
    "    fig.update_layout(\n",
    "        title_text=f\"Comparison of '{metric}' for raw and preprocessed text, on all toxicity metrics\", \n",
    "        yaxis_title=\"Value\",\n",
    "        xaxis_title=\"Metric name\",\n",
    "\n",
    "    )\n",
    "    fig.show()"
   ]
  },
  {
   "cell_type": "markdown",
   "id": "913f2b64",
   "metadata": {},
   "source": [
    "### Plot comparison of single metric for raw and preprocessed"
   ]
  },
  {
   "cell_type": "code",
   "execution_count": null,
   "id": "21d226f1",
   "metadata": {},
   "outputs": [],
   "source": [
    "selected_stat = \"mean\"\n",
    "raw_mean = tox_cols_raw[2]\n",
    "pre_mean = tox_cols_preprocessed[2]\n",
    "raw_mean_val = raw_stats.loc[selected_stat][raw_mean]\n",
    "pre_mean_val = processed_stats.loc[selected_stat][pre_mean]\n",
    "\n",
    "print(f\"Preprocessing resulted in: {(pre_mean_val/raw_mean_val)*100:.3f}% increase/decrease compared to the raw text metric.\")\n",
    "fig = go.Figure([\n",
    "                go.Bar(x=[raw_mean], \n",
    "                        y=[raw_mean_val],\n",
    "                        marker_color='#005293', name=\"Raw text\"),\n",
    "                go.Bar(x=[pre_mean], \n",
    "                        y=[pre_mean_val],\n",
    "                        marker_color='#e37222', name=\"Preprocessed text\")])\n",
    "fig.update_layout(\n",
    "    autosize=False,\n",
    "    width=500,\n",
    "    height=500,\n",
    "    title_text=f\"Raw and preprocessed text for metric '{selected_stat}'\", \n",
    "    yaxis_title=\"Date\",\n",
    "    xaxis_title=\"Mean metric value\",\n",
    "\n",
    ")\n",
    "fig.show()\n",
    "fig.write_image(\"test_svg.svg\")"
   ]
  },
  {
   "cell_type": "code",
   "execution_count": null,
   "id": "44a6d309",
   "metadata": {},
   "outputs": [],
   "source": []
  },
  {
   "cell_type": "markdown",
   "id": "0ac65837",
   "metadata": {},
   "source": [
    "## Comparision of single hashtags through time\n",
    "Here we plot a scatter chart over time"
   ]
  },
  {
   "cell_type": "code",
   "execution_count": null,
   "id": "511825b3",
   "metadata": {
    "scrolled": true
   },
   "outputs": [],
   "source": [
    "def plot_metrics_for_files(files_list):\n",
    "    comparison_list = []\n",
    "    tweet_count = 0\n",
    "    for file_name in files_list[:3]:\n",
    "        hashtag_name = file_name.split(\"_\")[0]\n",
    "        print(f\"For hashtag {hashtag_name}, from file {file_name}\")\n",
    "        tweets_df = get_prepared_df_for_file(file_name)\n",
    "        tweet_count += len(tweets_df.index)\n",
    "\n",
    "        # group by date \n",
    "        grouped_by_day = tweets_df[tox_cols_preprocessed + meta_cols].resample(\"D\", on=\"created_at\").mean()\n",
    "        # display(grouped_by_day.index, grouped_by_day[[tox_cols_preprocessed[0]]])\n",
    "        figure_list = []\n",
    "        cols_s = [\"lemma_toxicity\", \"lemma_obscene\", \"lemma_insult\"]\n",
    "        for col, color_i in zip(cols_s, tum_colors[:3]):\n",
    "            metric_name = \" \".join(col.split(\"_\")[1:])\n",
    "            trace_i = go.Scatter(x=grouped_by_day.index,y=grouped_by_day[col], \n",
    "                                 name=metric_name, mode=\"lines\", marker_color=color_i)\n",
    "            figure_list.append(trace_i)\n",
    "            \n",
    "\n",
    "        fig = go.Figure(data=figure_list)\n",
    "        fig.update_layout(\n",
    "            title_text=f\"Mean metrics for hashtag/keyword '{hashtag_name}' from 01/06/2022 to 03/01/2023\", \n",
    "            yaxis_title=\"Value\",\n",
    "            xaxis_title=\"Time\",\n",
    "            width=2000,\n",
    "            height=400,\n",
    "            autosize=False,\n",
    "            margin={'l': 0, 'r': 0, 't': 25, 'b': 0}\n",
    "        )\n",
    "        fig.update_yaxes(rangemode=\"tozero\")\n",
    "        fig.update_layout(legend = dict(font = dict(size = 25)))\n",
    "        \n",
    "        annotation_height = grouped_by_day[tox_cols_preprocessed].max().max() + 0.01\n",
    "        print(annotation_height)\n",
    "        fig.add_vline(x='2022-10-03 00:00:00', line_color=\"#000000\", line_width=3)\n",
    "        fig.add_annotation(x='2022-10-03 00:00:00', y=annotation_height ,text=\"Acquisition moves forward\", \n",
    "                           xanchor=\"right\", yanchor=\"top\", showarrow=False)\n",
    "        \n",
    "        fig.add_vline(x='2022-10-27 00:00:00', line_color=\"#000000\", line_width=3)\n",
    "        fig.add_annotation(x='2022-10-27 00:00:00', y=annotation_height, text=\"Deal closed\", \n",
    "                           xanchor=\"left\", yanchor=\"top\", showarrow=False)\n",
    "        fig.add_vline(x='2022-12-16 00:00:00', line_color=\"#000000\", line_width=3)\n",
    "        fig.add_annotation(x='2022-12-16 00:00:00', y=annotation_height, text=\"Musk bans a journalist\", \n",
    "                           xanchor=\"left\", yanchor=\"top\", showarrow=False)\n",
    "        fig.show()\n",
    "        # comparison_list.append(tweets_df)\n",
    "        # figure_list.append(tweets_df)\n",
    "        fig.write_image(f\"{hashtag_name}_metrics_chart.svg\")\n",
    "        \n",
    "        \n",
    "    print(f\"There is {tweet_count} tweets in all files together!\")\n",
    "    return comparison_list\n",
    "\n",
    "\n",
    "figure_arr = plot_metrics_for_files(files_list)"
   ]
  },
  {
   "cell_type": "markdown",
   "id": "e3abcf95",
   "metadata": {},
   "source": [
    "Comparing change in metrics post and pre take over."
   ]
  },
  {
   "cell_type": "code",
   "execution_count": null,
   "id": "efd974b5",
   "metadata": {
    "scrolled": true
   },
   "outputs": [],
   "source": [
    "def plot_distribution_for_files(file_names):\n",
    "    combined_df = pd.DataFrame()\n",
    "    for file_name in file_names:\n",
    "        hashtag_name = file_name.split(\"_\")[0]\n",
    "        print(f\"\\nFor hashtag {hashtag_name}, from file {file_name}\")\n",
    "        tweets_df = get_prepared_df_for_file(file_name)\n",
    "\n",
    "        # split data pre-takeover (27.10.2022), and post take over\n",
    "        pre_takeover_mask = tweets_df[\"created_at\"].dt.date < pd.to_datetime(\"27/10/2022 00:00:00\").date()\n",
    "        post_takeover_mask = tweets_df[\"created_at\"].dt.date >= pd.to_datetime(\"27/10/2022 00:00:00\").date()\n",
    "        pre_to_df = tweets_df[pre_takeover_mask]\n",
    "        post_to_df = tweets_df[post_takeover_mask]\n",
    "        print(f\"Pre take over data consists of {len(pre_to_df.index)} tweets, while post take over consists of {len(post_to_df.index)}\")\n",
    "        \n",
    "        # get averages for each metric and rename the columns\n",
    "        pre_mean_df = pre_to_df[tox_cols_preprocessed].mean().to_frame().T\n",
    "        pre_mean_df.columns = [f\"pre_{'_'.join(col.split('_')[1:])}\" for col in pre_mean_df.columns]\n",
    "        \n",
    "        post_mean_df = post_to_df[tox_cols_preprocessed].mean().to_frame().T\n",
    "        post_mean_df.columns = [f\"post_{'_'.join(col.split('_')[1:])}\" for col in post_mean_df.columns]\n",
    "        # merge them to one row\n",
    "        pre_post_row = pd.concat([pre_mean_df, post_mean_df], axis=1)\n",
    "        # rename row to hashtag name\n",
    "        pre_post_row.rename(index={0: hashtag_name}, inplace=True)\n",
    "        \n",
    "        if False:\n",
    "            print(f\"- Proc pre-take-over toxicity {pre_post_row['pre_toxicity']}\")\n",
    "            print(f\"- Proc post-take-over toxicity {pre_post_row['post_toxicity']}\")\n",
    "            print(f\"- Pre change: {((pre_post_row['post_toxicity']/pre_post_row['pre_toxicity']) * 100) - 100}%\")\n",
    "\n",
    "        combined_df = pd.concat([combined_df, pre_post_row])\n",
    "    display(combined_df)\n",
    "    return combined_df\n",
    "\n",
    "combined_diff_df = plot_distribution_for_files(files_list)"
   ]
  },
  {
   "cell_type": "code",
   "execution_count": null,
   "id": "2b447e07",
   "metadata": {
    "scrolled": true
   },
   "outputs": [],
   "source": [
    "for tox_metric in tox_cols:\n",
    "    trace_arr = []\n",
    "    for index, row in combined_diff_df.iterrows():\n",
    "        diff = (row[f\"post_{tox_metric}\"] / row[f\"pre_{tox_metric}\"]) * 100 - 100\n",
    "        if diff >= 0 :\n",
    "            trace_arr.append(go.Bar(x=[index], \n",
    "                                y=[diff],\n",
    "                                marker_color='#005293', \n",
    "                                name=index,\n",
    "                                showlegend=False))\n",
    "        else:\n",
    "            trace_arr.append(go.Bar(x=[index], \n",
    "                    y=[diff],\n",
    "                    marker_color='#e37222', \n",
    "                    name=index,\n",
    "                    showlegend=False))\n",
    "    fig = go.Figure(trace_arr)\n",
    "    fig.update_layout(\n",
    "        title_text=f\"Relative change in mean '{tox_metric}' post takeover\", \n",
    "        yaxis_title=\"Relative change to pre-take over\",\n",
    "        xaxis_title=\"Hashtag/Keyword\",\n",
    "        yaxis=dict(ticksuffix=\".0%\"),\n",
    "        width=500,\n",
    "        height=300,\n",
    "        autosize=False,\n",
    "        margin={'l': 0, 'r': 0, 't': 25, 'b': 0}\n",
    "    )\n",
    "    \n",
    "    fig.write_image(f\"change_in_{tox_metric}_chart.svg\")\n",
    "    fig.show()"
   ]
  },
  {
   "cell_type": "code",
   "execution_count": null,
   "id": "406df81f",
   "metadata": {},
   "outputs": [],
   "source": [
    "combined_diff_df"
   ]
  },
  {
   "cell_type": "code",
   "execution_count": null,
   "id": "3da8f811",
   "metadata": {},
   "outputs": [],
   "source": [
    "# scatter plot of combined metrics \n",
    "# plot every every statistic for every metric for raw and preprocessed \n",
    "x_col_pre = \"pre_toxicity\"\n",
    "y_col_pre = \"pre_severe_toxicity\"\n",
    "x_col_post = \"post_toxicity\"\n",
    "y_col_post = \"post_severe_toxicity\"\n",
    "\n",
    "trace_list = []\n",
    "trace_list.append(go.Scatter(name='Pre-takeover', \n",
    "                             x=combined_diff_df[x_col_pre],\n",
    "                             y=combined_diff_df[y_col_pre], \n",
    "                             text=combined_diff_df.index,\n",
    "                             marker_color='#005293',\n",
    "                             mode=\"markers+text\",\n",
    "                             marker=dict(size=6),\n",
    "                             textposition='top center'))\n",
    "trace_list.append(go.Scatter(name='Post-takeover', \n",
    "                             x=combined_diff_df[x_col_post], \n",
    "                             y=combined_diff_df[y_col_post], \n",
    "                             text=combined_diff_df.index,\n",
    "                             marker_color='#e37222', \n",
    "                             mode=\"markers+text\",\n",
    "                             marker=dict(size=6),\n",
    "                             textposition='bottom center'))\n",
    "\n",
    "fig = go.Figure(data=trace_list)\n",
    "# Change the bar mode\n",
    "\n",
    "fig.update_layout(\n",
    "    title_text=f\"Comparison of toxicity and severe-toxicity metrics pre-post takeover\", \n",
    "    yaxis_title=\"Severe toxicity\",\n",
    "    xaxis_title=\"Toxicity\",\n",
    "    margin={'l': 0, 'r': 0, 't': 25, 'b': 0}\n",
    ")\n",
    "fig.update_yaxes(rangemode=\"tozero\")\n",
    "fig.update_layout(legend = dict(font = dict(size = 25)))\n",
    "fig.show()\n",
    "fig.write_image(\"toxicity_vs_severe_toxicity.svg\")"
   ]
  },
  {
   "cell_type": "code",
   "execution_count": null,
   "id": "bb61c413",
   "metadata": {},
   "outputs": [],
   "source": []
  },
  {
   "cell_type": "markdown",
   "id": "a3e8af44",
   "metadata": {},
   "source": [
    "## T-test\n",
    "https://www.geeksforgeeks.org/how-to-conduct-a-two-sample-t-test-in-python/"
   ]
  },
  {
   "cell_type": "code",
   "execution_count": null,
   "id": "187bf6f1",
   "metadata": {},
   "outputs": [],
   "source": [
    "from statsmodels.stats.weightstats import ttest_ind\n",
    "import numpy as np\n",
    "import pingouin as pg\n",
    "\n",
    "def t_test_v1(file_names):\n",
    "    for file_name in file_names:\n",
    "        hashtag_name = file_name.split(\"_\")[0]\n",
    "        print(f\"\\n\\nFor hashtag {hashtag_name}, from file {file_name}\")\n",
    "        tweets_df = get_prepared_df_for_file(file_name)\n",
    "\n",
    "        # split data pre-takeover (27.10.2022), and post take over\n",
    "        pre_takeover_mask = tweets_df[\"created_at\"].dt.date < pd.to_datetime(\"27/10/2022 00:00:00\").date()\n",
    "        post_takeover_mask = tweets_df[\"created_at\"].dt.date >= pd.to_datetime(\"27/10/2022 00:00:00\").date()\n",
    "        pre_to_df = tweets_df[pre_takeover_mask]\n",
    "        post_to_df = tweets_df[post_takeover_mask]\n",
    "        print(f\"Pre take over data consists of {len(pre_to_df.index)} tweets, while post take over consists of {len(post_to_df.index)}\")\n",
    "        # Conducting two-sample ttest\n",
    "    \n",
    "        print(\"T-test\")\n",
    "        result = pg.ttest(pre_to_df[\"lemma_toxicity\"],\n",
    "                          post_to_df[\"lemma_toxicity\"],\n",
    "                          correction=True)\n",
    "\n",
    "        # Print the result\n",
    "        print(\"With pingouin\", result)\n",
    "        print(\"Stats models\", ttest_ind(pre_to_df[\"lemma_toxicity\"], post_to_df[\"lemma_toxicity\"]))\n",
    "\n",
    "combined_diff_df = t_test_v1(files_list)"
   ]
  },
  {
   "cell_type": "code",
   "execution_count": null,
   "id": "f6c5b4c6",
   "metadata": {},
   "outputs": [],
   "source": []
  },
  {
   "cell_type": "markdown",
   "id": "87f9b128",
   "metadata": {},
   "source": []
  }
 ],
 "metadata": {
  "kernelspec": {
   "display_name": "Python 3 (ipykernel)",
   "language": "python",
   "name": "python3"
  },
  "language_info": {
   "codemirror_mode": {
    "name": "ipython",
    "version": 3
   },
   "file_extension": ".py",
   "mimetype": "text/x-python",
   "name": "python",
   "nbconvert_exporter": "python",
   "pygments_lexer": "ipython3",
   "version": "3.10.4"
  }
 },
 "nbformat": 4,
 "nbformat_minor": 5
}
