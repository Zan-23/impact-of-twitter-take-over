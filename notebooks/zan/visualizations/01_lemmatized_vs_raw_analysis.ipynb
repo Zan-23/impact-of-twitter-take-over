{
 "cells": [
  {
   "cell_type": "markdown",
   "id": "e35ef9eb",
   "metadata": {},
   "source": [
    "# Comparison of raw text toxicity vs toxicity of the preprocessed text"
   ]
  },
  {
   "cell_type": "code",
   "execution_count": null,
   "id": "1626e7e9",
   "metadata": {},
   "outputs": [],
   "source": [
    "%reload_ext autoreload\n",
    "%autoreload 2\n",
    "\n",
    "import os \n",
    "import sys\n",
    "import pandas as pd\n",
    "import numpy as np\n",
    "import plotly \n",
    "import plotly.graph_objects as go\n",
    "import time\n",
    "\n",
    "\n",
    "try:\n",
    "    print(run_only_once)\n",
    "except Exception as e:\n",
    "    print(os.getcwd())\n",
    "    os.chdir(\"./../../../\")\n",
    "    print(os.getcwd())\n",
    "    run_only_once = \"Dir has already been changed\""
   ]
  },
  {
   "cell_type": "code",
   "execution_count": null,
   "id": "34c9bced",
   "metadata": {},
   "outputs": [],
   "source": [
    "files_list = ['fitness_hashtag_merged.csv', 'musk_hashtag_merged.csv', \n",
    "              'netflix_hashtag_merged.csv', 'trump_hashtag_merged.csv', \n",
    "              'uno_hashtag_merged.csv', 'vegan_hashtag_merged.csv', \n",
    "              'vegetarian_hashtag_merged.csv']\n",
    "\n",
    "tox_cols = [\"toxicity\", \"severe_toxicity\", \"obscene\", \"threat\", \"insult\", \"identity_attack\"]\n",
    "tox_cols_raw = [f\"normal_{i}\" for i in tox_cols]\n",
    "tox_cols_preprocessed = [f\"lemma_{i}\" for i in tox_cols]\n",
    "\n",
    "meta_cols = [\"retweet_count\", \"reply_count\", \"like_count\", \"quote_count\", \"created_at\"]\n",
    "\n",
    "def get_prepared_df_for_file(file_name):\n",
    "    df = pd.read_csv(f\"./data/preprocessed/{file_name}\")\n",
    "    df[\"created_at\"] = pd.to_datetime(df[\"created_at\"])\n",
    "    return df"
   ]
  },
  {
   "cell_type": "markdown",
   "id": "1cc4b2af",
   "metadata": {},
   "source": [
    "Link to the page where all events correlated to the takeover are listed.\n",
    "## Compare the average of toxicity metrics for raw and lemmatized text"
   ]
  },
  {
   "cell_type": "code",
   "execution_count": null,
   "id": "e5328d71",
   "metadata": {},
   "outputs": [],
   "source": [
    "def plot_metrics_for_files(files_list):\n",
    "    comparison_list = []\n",
    "    tweet_count = 0\n",
    "    for file_name in files_list:\n",
    "        hashtag_name = file_name.split(\"_\")[0]\n",
    "        print(f\"For hashtag {hashtag_name}, from file {file_name}\")\n",
    "        tweets_df = get_prepared_df_for_file(file_name)\n",
    "        tweet_count += len(tweets_df.index)\n",
    "\n",
    "        # group by date \n",
    "        comparison_list.append(tweets_df)\n",
    "        # figure_list.append(tweets_df)\n",
    "     \n",
    "    merged_df = pd.concat(comparison_list, ignore_index=True) \n",
    "    print(f\"There is {tweet_count} tweets in all files together!\")\n",
    "    return merged_df\n",
    "combined_data_df = plot_metrics_for_files(files_list)"
   ]
  },
  {
   "cell_type": "code",
   "execution_count": null,
   "id": "993fe92a",
   "metadata": {},
   "outputs": [],
   "source": [
    "raw_stats = combined_data_df[tox_cols_raw].describe()\n",
    "raw_stats"
   ]
  },
  {
   "cell_type": "code",
   "execution_count": null,
   "id": "3ccd0235",
   "metadata": {},
   "outputs": [],
   "source": [
    "processed_stats = combined_data_df[tox_cols_preprocessed].describe()\n",
    "processed_stats"
   ]
  },
  {
   "cell_type": "code",
   "execution_count": null,
   "id": "d8bb9cfe",
   "metadata": {
    "scrolled": true
   },
   "outputs": [],
   "source": [
    "# plot every every statistic for every metric for raw and preprocessed \n",
    "for metric in list(processed_stats.index)[1:-1]:\n",
    "    trace_list = []\n",
    "    print(metric)\n",
    "    raw_metric = raw_stats.loc[metric][tox_cols_raw]\n",
    "    proc_metric = processed_stats.loc[metric][tox_cols_preprocessed]\n",
    "\n",
    "    trace_list.append(go.Bar(name='Raw text', x=tox_cols, y=raw_metric, marker_color='#005293'))\n",
    "    trace_list.append(go.Bar(name='Preprocessed text', x=tox_cols, y=proc_metric, marker_color='#e37222'))\n",
    "    \n",
    "    fig = go.Figure(data=trace_list)\n",
    "    # Change the bar mode\n",
    "    fig.update_layout(barmode='group')\n",
    "    fig.update_layout(\n",
    "        title_text=f\"Comparison of '{metric}' for raw and preprocessed text, on all toxicity metrics\", \n",
    "        yaxis_title=\"Value\",\n",
    "        xaxis_title=\"Metric name\",\n",
    "\n",
    "    )\n",
    "    fig.show()"
   ]
  },
  {
   "cell_type": "code",
   "execution_count": null,
   "id": "5412464e",
   "metadata": {},
   "outputs": [],
   "source": [
    "# plot comparison of single metric for raw and preprocessed\n",
    "selected_stat = \"mean\"\n",
    "raw_mean = tox_cols_raw[2]\n",
    "pre_mean = tox_cols_preprocessed[2]\n",
    "raw_mean_val = raw_stats.loc[selected_stat][raw_mean]\n",
    "pre_mean_val = processed_stats.loc[selected_stat][pre_mean]\n",
    "\n",
    "print(f\"Preprocessing resulted in: {(pre_mean_val/raw_mean_val)*100:.3f}% increase/decrease compared to the raw text metric.\")\n",
    "fig = go.Figure([\n",
    "                go.Bar(x=[raw_mean], \n",
    "                        y=[raw_mean_val],\n",
    "                        marker_color='#005293', name=\"Raw text\"),\n",
    "                go.Bar(x=[pre_mean], \n",
    "                        y=[pre_mean_val],\n",
    "                        marker_color='#e37222', name=\"Preprocessed text\")])\n",
    "fig.update_layout(\n",
    "    autosize=False,\n",
    "    width=500,\n",
    "    height=500,\n",
    "    title_text=f\"Raw and preprocessed text for metric '{selected_stat}'\", \n",
    "    yaxis_title=\"Date\",\n",
    "    xaxis_title=\"Mean metric value\",\n",
    "\n",
    ")\n",
    "fig.show()\n",
    "fig.write_image(\"test_svg.svg\")"
   ]
  },
  {
   "cell_type": "code",
   "execution_count": null,
   "id": "44a6d309",
   "metadata": {},
   "outputs": [],
   "source": []
  },
  {
   "cell_type": "markdown",
   "id": "0ac65837",
   "metadata": {},
   "source": [
    "## Comparision of single hashtags through time\n",
    "Here we plot a scatter chart over time"
   ]
  },
  {
   "cell_type": "code",
   "execution_count": null,
   "id": "511825b3",
   "metadata": {
    "scrolled": true
   },
   "outputs": [],
   "source": [
    "def plot_metrics_for_files(files_list):\n",
    "    comparison_list = []\n",
    "    tweet_count = 0\n",
    "    for file_name in files_list:\n",
    "        hashtag_name = file_name.split(\"_\")[0]\n",
    "        print(f\"For hashtag {hashtag_name}, from file {file_name}\")\n",
    "        tweets_df = get_prepared_df_for_file(file_name)\n",
    "        tweet_count += len(tweets_df.index)\n",
    "\n",
    "        # group by date \n",
    "        grouped_by_day = tweets_df[tox_cols_preprocessed + meta_cols].resample(\"D\", on=\"created_at\").mean()\n",
    "        # display(grouped_by_day.index, grouped_by_day[[tox_cols_preprocessed[0]]])\n",
    "        figure_list = []\n",
    "        tum_colors = [\"#165DB1\", \"#FED702\", \"#F7811E\", \"#B55CA5\", \"#6A757E\", \"#C7D97D\"]\n",
    "        for col, color_i in zip(tox_cols_preprocessed, tum_colors):\n",
    "            metric_name = \" \".join(col.split(\"_\")[1:])\n",
    "            trace_i = go.Scatter(x=grouped_by_day.index,y=grouped_by_day[col], \n",
    "                                 name=metric_name, mode=\"lines\", marker_color=color_i)\n",
    "            figure_list.append(trace_i)\n",
    "\n",
    "        fig = go.Figure(data=figure_list)\n",
    "        fig.update_layout(\n",
    "            title_text=f\"Mean metrics for hashtag/keyword '{hashtag_name}' from 01/06/2022 to 03/01/2023\", \n",
    "            yaxis_title=\"Value\",\n",
    "            xaxis_title=\"Time\",\n",
    "        )\n",
    "        \n",
    "        annotation_height = grouped_by_day[tox_cols_preprocessed].max().max() + 0.01\n",
    "        print(annotation_height)\n",
    "        fig.add_vline(x='2022-10-04 00:00:00', line_dash=\"dash\", line_color=\"#8F81EA\", line_width=3)\n",
    "        fig.add_annotation(x='2022-10-04 00:00:00', y=annotation_height ,text=\"Acquisition moves forward\", \n",
    "                           xanchor=\"right\", yanchor=\"top\", showarrow=False)\n",
    "        \n",
    "        fig.add_vline(x='2022-10-27 00:00:00', line_dash=\"dash\", line_color=\"#D95117\", line_width=3)\n",
    "        fig.add_annotation(x='2022-10-27 00:00:00', y=annotation_height, text=\"Deal closed\", \n",
    "                           xanchor=\"left\", yanchor=\"top\", showarrow=False)\n",
    "        fig.show()\n",
    "        # comparison_list.append(tweets_df)\n",
    "        # figure_list.append(tweets_df)\n",
    "        \n",
    "        \n",
    "    print(f\"There is {tweet_count} tweets in all files together!\")\n",
    "    return comparison_list\n",
    "\n",
    "\n",
    "figure_arr = plot_metrics_for_files(files_list)"
   ]
  },
  {
   "cell_type": "markdown",
   "id": "e3abcf95",
   "metadata": {},
   "source": [
    "Comparing distributions of normal and severe toxicity for each hashtag through time."
   ]
  },
  {
   "cell_type": "code",
   "execution_count": null,
   "id": "efd974b5",
   "metadata": {
    "scrolled": false
   },
   "outputs": [],
   "source": [
    "import plotly.figure_factory as ff\n",
    "\n",
    "def plot_distribution_for_file(file_name):\n",
    "    hashtag_name = file_name.split(\"_\")[0]\n",
    "    print(f\"For hashtag {hashtag_name}, from file {file_name}\")\n",
    "    tweets_df = get_prepared_df_for_file(file_name)\n",
    "\n",
    "    # split data pre-takeover (27.10.2022), and post take over\n",
    "    pre_takeover_mask = tweets_df[\"created_at\"].dt.date < pd.to_datetime(\"27/10/2022 00:00:00\").date()\n",
    "    post_takeover_mask = tweets_df[\"created_at\"].dt.date >= pd.to_datetime(\"27/10/2022 00:00:00\").date()\n",
    "    pre_to_df = tweets_df[pre_takeover_mask]\n",
    "    post_to_df = tweets_df[post_takeover_mask]\n",
    "    print(f\"Pre take over data consists of {len(pre_to_df.index)} tweets, while post take over consists of {len(post_to_df.index)}\")\n",
    "\n",
    "    pre_toxicity = pre_to_df['normal_toxicity'].mean()\n",
    "    post_toxicity = post_to_df['normal_toxicity'].mean()\n",
    "    pre_toxicity_p = pre_to_df['lemma_toxicity'].mean()\n",
    "    post_toxicity_p = post_to_df['lemma_toxicity'].mean()\n",
    "    print(f\"- Raw pre-take over toxicity: {pre_toxicity:.5f}\")\n",
    "    print(f\"- Raw post-take over toxicity: {post_toxicity:.5f}\")\n",
    "    print(f\"- Proc pre-take-over toxicity {pre_toxicity_p:.5f}\")\n",
    "    print(f\"- Proc post-take-over toxicity {post_toxicity_p:.5f}\")\n",
    "    print(f\"- Raw change: {((post_toxicity/pre_toxicity) * 100) - 100:.2f}%\")\n",
    "    print(f\"- Pre change: {((post_toxicity_p/pre_toxicity_p) * 100) - 100:.2f}%\")\n",
    "    # fig = go.Figure(data=[go.Histogram(x=tweets_df[pre_takeover_mask][\"lemma_toxicity\"], histnorm='probability')])\n",
    "    # fig.show()\n",
    "    \n",
    "    # plot histogram from mean and std\n",
    "    tmp = tweets_df[pre_takeover_mask][[\"lemma_toxicity\"]].describe() \n",
    "    tmp2 = tweets_df[post_takeover_mask][[\"lemma_toxicity\"]].describe() \n",
    "    display(tmp)\n",
    "    x1 = np.random.randn(200)\n",
    "    x2 = np.random.randn(200) + 2\n",
    "\n",
    "    group_labels = ['Pre-take over', 'Post take over']\n",
    "    colors = ['slategray', 'magenta']\n",
    "\n",
    "    \"\"\"    fig = go.Figure()\n",
    "    # fig.add_trace(go.Box(y=tweets_df[pre_takeover_mask]['lemma_toxicity']))\n",
    "    # fig.add_trace(go.Box(y=tweets_df[post_takeover_mask]['lemma_toxicity']))\n",
    "    \n",
    "    fig.add_trace(go.Box(x=\"s2\", mean=tmp.loc[\"mean\"], median=tweets_df[pre_takeover_mask][[\"lemma_toxicity\"]].median(),\n",
    "                        q1=tmp.loc[\"25%\"], q3=tmp.loc[\"75%\"]))\n",
    "    fig.add_trace(go.Box(x=\"s1\", mean=tmp2.loc[\"mean\"], median=tweets_df[post_takeover_mask][[\"lemma_toxicity\"]].median(),\n",
    "                        q1=tmp2.loc[\"25%\"], q3=tmp2.loc[\"75%\"]))\n",
    "    fig.show()\"\"\"\n",
    "    \n",
    "        \n",
    "for file in files_list:\n",
    "    plot_distribution_for_file(files_list[0])\n",
    "    break"
   ]
  },
  {
   "cell_type": "code",
   "execution_count": null,
   "id": "2b447e07",
   "metadata": {},
   "outputs": [],
   "source": []
  },
  {
   "cell_type": "code",
   "execution_count": null,
   "id": "406df81f",
   "metadata": {},
   "outputs": [],
   "source": []
  },
  {
   "cell_type": "code",
   "execution_count": null,
   "id": "a55134e2",
   "metadata": {},
   "outputs": [],
   "source": []
  }
 ],
 "metadata": {
  "kernelspec": {
   "display_name": "Python 3 (ipykernel)",
   "language": "python",
   "name": "python3"
  },
  "language_info": {
   "codemirror_mode": {
    "name": "ipython",
    "version": 3
   },
   "file_extension": ".py",
   "mimetype": "text/x-python",
   "name": "python",
   "nbconvert_exporter": "python",
   "pygments_lexer": "ipython3",
   "version": "3.10.4"
  }
 },
 "nbformat": 4,
 "nbformat_minor": 5
}
