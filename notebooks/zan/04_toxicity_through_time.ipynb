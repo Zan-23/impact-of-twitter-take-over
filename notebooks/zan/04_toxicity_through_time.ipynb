{
 "cells": [
  {
   "cell_type": "markdown",
   "id": "b50772d3",
   "metadata": {},
   "source": [
    "# Toxicity through time chart creation"
   ]
  },
  {
   "cell_type": "code",
   "execution_count": null,
   "id": "f0715202",
   "metadata": {
    "scrolled": true
   },
   "outputs": [],
   "source": [
    "%reload_ext autoreload\n",
    "%autoreload 2\n",
    "\n",
    "import os \n",
    "import sys\n",
    "import pandas as pd\n",
    "import numpy as np\n",
    "import plotly \n",
    "import plotly.graph_objects as go\n",
    "import time\n",
    "\n",
    "import nltk\n",
    "from detoxify import Detoxify\n",
    "# nltk.download('stopwords')\n",
    "\n",
    "try:\n",
    "    print(run_only_once)\n",
    "except Exception as e:\n",
    "    print(os.getcwd())\n",
    "    os.chdir(\"./../../\")\n",
    "    print(os.getcwd())\n",
    "    run_only_once = \"Dir has already been changed\""
   ]
  },
  {
   "cell_type": "markdown",
   "id": "2b50f4d9",
   "metadata": {},
   "source": [
    "Toxicity metrics through time plotted."
   ]
  },
  {
   "cell_type": "markdown",
   "id": "c30c678c",
   "metadata": {},
   "source": [
    "## Hashtag toxicity comparison plots\n",
    "Here we created various plots to visualize our data. The code here is not highly documented since it was done as exploratory  analysis and it should be self explanatory."
   ]
  },
  {
   "cell_type": "code",
   "execution_count": null,
   "id": "d2f59674",
   "metadata": {},
   "outputs": [],
   "source": [
    "def compare_hashtag_toxicity(files_list):\n",
    "    comparison_list = []\n",
    "    tweet_count = 0\n",
    "    for file_name in files_list:\n",
    "        hashtag_name = file_name.split(\"_\")[0]\n",
    "        print(f\"For hashtag {hashtag_name}, from file {file_name}\")\n",
    "\n",
    "        file_name = f\"./data/preprocessed/{file_name}\"\n",
    "        tweets_df = pd.read_csv(file_name)\n",
    "        # display(tweets_df)\n",
    "        tweet_count += len(tweets_df.index)\n",
    "        tweets_df[\"created_at\"] = pd.to_datetime(tweets_df[\"created_at\"])\n",
    "        # group by date \n",
    "        toxicity_cols = [\"toxicity\", \"severe_toxicity\", \"obscene\", \"threat\", \"insult\", \"identity_attack\"]\n",
    "        toxicity_cols = [f\"normal_{i}\" for i in toxicity_cols]\n",
    "        selected_cols = [\"retweet_count\", \"reply_count\", \"like_count\", \"quote_count\", \"created_at\"] + toxicity_cols\n",
    "        grouped_by_day = tweets_df[selected_cols].resample(\"D\", on=\"created_at\").mean()\n",
    "\n",
    "        # go.Scatter(x=grouped_by_day.index,y=grouped_by_day[\"toxicity\"], name=hashtag_name, mode=\"lines\")\n",
    "        comparison_list.append(tweets_df)\n",
    "        \n",
    "        \"\"\"\n",
    "        # uncomment for single plots\n",
    "        col_traces = []\n",
    "        for column in toxicity_cols:\n",
    "            col_traces.append(\n",
    "                go.Scatter(x=grouped_by_day.index,y=grouped_by_day[column], name=column, mode=\"lines\"))\n",
    "                \n",
    "        fig = go.Figure(col_traces)\n",
    "        fig.update_layout(\n",
    "            title_text=\"Change of toxicity metrics through time\", \n",
    "            yaxis_title=\"Date\",\n",
    "            xaxis_title=\"Mean metric value\",\n",
    "        )\n",
    "        fig.update_layout(bargap=0.2)\n",
    "        fig.show()\n",
    "        \"\"\"\n",
    "        \n",
    "    \"\"\"\n",
    "    fig_com = go.Figure(comparison_list)\n",
    "    fig_com.update_layout(\n",
    "        title_text=\"Change of toxicity through time for each hashtag\", \n",
    "        yaxis_title=\"Date\",\n",
    "        xaxis_title=\"Mean value\",\n",
    "    )\n",
    "    fig_com.update_layout(bargap=0.2)\n",
    "    fig_com.show()\n",
    "    \"\"\"\n",
    "    print(f\"There is {tweet_count} tweets in all files together!\")\n",
    "    return comparison_list"
   ]
  },
  {
   "cell_type": "code",
   "execution_count": null,
   "id": "0436b826",
   "metadata": {
    "scrolled": false
   },
   "outputs": [],
   "source": [
    "# get all the files -> os.listdir(\"../../data/detoxify_toxicity_added_hashtags/\")\n",
    "#               \"trump_hashtag_04_01_2023_detoxify_toxicity.csv\",\n",
    "# print(os.listdir(\"./data/preprocessed/\"))\n",
    "\n",
    "files_list = ['fitness_hashtag_merged.csv', 'musk_hashtag_merged.csv', 'netflix_hashtag_merged.csv', \n",
    " 'trump_hashtag_merged.csv', 'uno_hashtag_merged.csv', 'vegan_hashtag_merged.csv', \n",
    " 'vegetarian_hashtag_merged.csv']\n",
    "\n",
    "df_array = compare_hashtag_toxicity(files_list)"
   ]
  },
  {
   "cell_type": "code",
   "execution_count": null,
   "id": "92d682a5",
   "metadata": {},
   "outputs": [],
   "source": [
    "len_hashtag_list = []\n",
    "for file_name, df_i in zip(files_list, df_array):\n",
    "    hashtag = file_name.split(\"_\")[0]\n",
    "    len_hashtag_list.append((hashtag, len(df_i.index)))\n",
    "len_hashtag_list = sorted(len_hashtag_list, key=lambda tup: tup[1], reverse=True)    \n",
    "    \n",
    "\"\"\"fig = go.Figure(comparison_list)\n",
    "fig.update_layout(\n",
    "    title_text=\"Change of toxicity through time for each hashtag\", \n",
    "    yaxis_title=\"Date\",\n",
    "    xaxis_title=\"Mean value\",\n",
    ")\n",
    "fig.update_layout(bargap=0.2)\n",
    "fig.show()\"\"\"\n",
    "fig = go.Figure([go.Bar(x=[i[0] for i in len_hashtag_list], y=[i[1] for i in len_hashtag_list], marker_color=\"#005293\")])\n",
    "fig.update_layout(\n",
    "    autosize=False,\n",
    "    width=550,\n",
    "    height=400,\n",
    "    title_text=\"Hashtag/keyword count in period from 01/06/2022 to 03/01/2023\", \n",
    "    yaxis_title=\"Count\",\n",
    "    xaxis_title=\"Hashtag/keyword\",\n",
    "    font=dict(\n",
    "        size=10\n",
    "    ),\n",
    "    margin={'l': 0, 'r': 0, 't': 25, 'b': 0}\n",
    ")\n",
    "fig.show()\n",
    "fig.write_image(\"used_hashtags.svg\")\n",
    "\n",
    "len_hashtag_list"
   ]
  },
  {
   "cell_type": "code",
   "execution_count": null,
   "id": "16faf207",
   "metadata": {},
   "outputs": [],
   "source": [
    "mean_list = []\n",
    "median_list = []\n",
    "keep_columns = ['toxicity', 'severe_toxicity', 'obscene', 'threat', 'insult','identity_attack']\n",
    "keep_columns = [f\"normal_{i}\" for i in keep_columns]\n",
    "for file_name, df_i in zip(files_list, df_array):\n",
    "    hashtag = file_name.split(\"_\")[0]\n",
    "    # create a list of all metrics\n",
    "    tmp_list_median = [hashtag] + df_i.drop('Unnamed: 0', axis=1)[keep_columns].median().tolist()\n",
    "    tmp_list_mean = [hashtag] + df_i.drop('Unnamed: 0', axis=1)[keep_columns].mean().tolist()\n",
    "    mean_list.append(tmp_list_mean)\n",
    "    median_list.append(tmp_list_median)"
   ]
  },
  {
   "cell_type": "code",
   "execution_count": null,
   "id": "b2c586d8",
   "metadata": {},
   "outputs": [],
   "source": [
    "toxicity_mean_df = pd.DataFrame(mean_list, columns=[\"hashtag\"] + keep_columns).sort_values(\"normal_toxicity\", ascending=False)\n",
    "toxicity_median_df = pd.DataFrame(median_list, columns=[\"hashtag\"] + keep_columns).sort_values(\"normal_toxicity\", ascending=False)"
   ]
  },
  {
   "cell_type": "code",
   "execution_count": null,
   "id": "79df7e08",
   "metadata": {},
   "outputs": [],
   "source": [
    "fig = go.Figure([go.Bar(x=toxicity_median_df[\"hashtag\"], y=toxicity_median_df[\"normal_toxicity\"])])\n",
    "fig.update_layout(\n",
    "    title_text=\"Median toxicity per hashtag from 01/06/2022 to 03/01/2023\", \n",
    "    yaxis_title=\"Count\",\n",
    "    xaxis_title=\"Hashtag\",\n",
    ")\n",
    "fig.show()\n",
    "\n",
    "fig = go.Figure([go.Bar(x=toxicity_mean_df[\"hashtag\"], y=toxicity_mean_df[\"normal_toxicity\"])])\n",
    "fig.update_layout(\n",
    "    title_text=\"Mean toxicity per hashtag from 01/06/2022 to 03/01/2023\", \n",
    "    yaxis_title=\"Count\",\n",
    "    xaxis_title=\"Hashtag\",\n",
    ")\n",
    "fig.show()"
   ]
  },
  {
   "cell_type": "code",
   "execution_count": null,
   "id": "7523b1ef",
   "metadata": {},
   "outputs": [],
   "source": [
    "        "
   ]
  },
  {
   "cell_type": "code",
   "execution_count": null,
   "id": "88a9b069",
   "metadata": {},
   "outputs": [],
   "source": [
    "groped_by_day_list = []\n",
    "scatter_list = []\n",
    "for file_name, df_i in zip(files_list, df_array):\n",
    "    hashtag = file_name.split(\"_\")[0]\n",
    "    df_i[\"created_at\"] = pd.to_datetime(df_i[\"created_at\"])\n",
    "    \n",
    "    # group by date \n",
    "    toxicity_cols = [\"toxicity\", \"severe_toxicity\", \"obscene\", \"threat\", \"insult\", \"identity_attack\"]\n",
    "    toxicity_cols = [f\"lemma_{i}\" for i in toxicity_cols]\n",
    "    selected_cols = [\"retweet_count\", \"reply_count\", \"like_count\", \"quote_count\", \"created_at\"] + toxicity_cols\n",
    "    grouped_by_day = df_i[selected_cols].resample(\"D\", on=\"created_at\").mean()\n",
    "    scatter_list.append(go.Scatter(x=grouped_by_day.index,y=grouped_by_day[\"lemma_toxicity\"], name=hashtag, mode=\"lines\"))\n",
    "    groped_by_day_list.append(grouped_by_day[toxicity_cols])"
   ]
  },
  {
   "cell_type": "code",
   "execution_count": null,
   "id": "e288f490",
   "metadata": {},
   "outputs": [],
   "source": [
    "fig_com = go.Figure(scatter_list)\n",
    "fig_com.update_layout(\n",
    "    title_text=\"Change of toxicity through time for each hashtag\", \n",
    "    yaxis_title=\"Mean value\",\n",
    "    xaxis_title=\"Date\",\n",
    ")\n",
    "fig_com.update_layout(bargap=0.2)\n",
    "fig_com.show()"
   ]
  },
  {
   "cell_type": "code",
   "execution_count": null,
   "id": "8a0706f5",
   "metadata": {},
   "outputs": [],
   "source": [
    "concat_df = pd.concat(groped_by_day_list) \n",
    "merged_tox_cols = concat_df.groupby(concat_df.index).mean()\n",
    "display(merged_tox_cols)"
   ]
  },
  {
   "cell_type": "code",
   "execution_count": null,
   "id": "25e02b29",
   "metadata": {},
   "outputs": [],
   "source": [
    "# TODO prettify it, made for the poster only \n",
    "toxicity_cols = [\"toxicity\", \"severe_toxicity\", \"obscene\", \"threat\", \"insult\", \"identity_attack\"]\n",
    "toxicity_cols = [f\"lemma_{i}\" for i in toxicity_cols]\n",
    "\n",
    "metrics_list = []\n",
    "for col, color_i in zip([\"lemma_toxicity\", \"lemma_obscene\", \"lemma_insult\"], [\"#165DB1\", \"#C7D97D\", \"#F7811E\"]):\n",
    "    metrics_list.append(go.Scatter(x=merged_tox_cols.index,\n",
    "                                   y=merged_tox_cols[col], \n",
    "                                   name=col.split(\"_\")[1], \n",
    "                                   mode=\"lines\",\n",
    "                                   marker_color=color_i))\n",
    "    \n",
    "fig_com = go.Figure(metrics_list)\n",
    "fig_com.update_layout(\n",
    "    title_text=f\"Mean metrics for all hashtags/keywords from 01/06/2022 to 03/01/2023\", \n",
    "    yaxis_title=\"Value\",\n",
    "    xaxis_title=\"Time\",\n",
    "    width=2000,\n",
    "    height=400,\n",
    "    autosize=False,\n",
    "    margin={'l': 0, 'r': 0, 't': 25, 'b': 0}\n",
    ")\n",
    "fig_com.update_yaxes(rangemode=\"tozero\")\n",
    "fig_com.update_layout(legend = dict(font = dict(size = 25)))\n",
    "\n",
    "annotation_height = merged_tox_cols[[\"lemma_toxicity\", \"lemma_obscene\", \"lemma_insult\"]].max().max() + 0.01\n",
    "print(annotation_height)\n",
    "fig_com.add_vline(x='2022-10-03 00:00:00', line_color=\"#000000\", line_width=3)\n",
    "fig_com.add_annotation(x='2022-10-03 00:00:00', y=annotation_height ,text=\"Deal closed\", \n",
    "                   xanchor=\"right\", yanchor=\"top\", showarrow=False)\n",
    "\n",
    "fig_com.add_vline(x='2022-10-27 00:00:00', line_color=\"#000000\", line_width=3)\n",
    "fig_com.add_annotation(x='2022-10-27 00:00:00', y=annotation_height, text=\"Half of Twitter employees fired\", \n",
    "                   xanchor=\"left\", yanchor=\"top\", showarrow=False)\n",
    "fig_com.add_vline(x='2022-12-16 00:00:00', line_color=\"#000000\", line_width=3)\n",
    "fig_com.add_annotation(x='2022-12-16 00:00:00', y=annotation_height, text=\"Musk bans a journalist\", \n",
    "                   xanchor=\"left\", yanchor=\"top\", showarrow=False)\n",
    "fig_com.show()\n",
    "fig_com.write_image(f\"all_hashtags_mean_metrics_chart.svg\")"
   ]
  },
  {
   "cell_type": "code",
   "execution_count": null,
   "id": "b0addf89",
   "metadata": {},
   "outputs": [],
   "source": []
  },
  {
   "cell_type": "code",
   "execution_count": null,
   "id": "274749b7",
   "metadata": {},
   "outputs": [],
   "source": [
    "pd.set_option('display.max_colwidth', None)\n",
    "df_array[0].drop(\"Unnamed: 0\", axis=1).nlargest(20, \"normal_toxicity\")[[\"tweet_id\", \"text\", \"normal_toxicity\"]]"
   ]
  },
  {
   "cell_type": "code",
   "execution_count": null,
   "id": "433b1ca6",
   "metadata": {},
   "outputs": [],
   "source": [
    "pd.set_option('display.max_colwidth', None)\n",
    "df_array[0].drop(\"Unnamed: 0\", axis=1).nsmallest(5, \"normal_toxicity\")[[\"tweet_id\", \"text\", \"normal_toxicity\"]]"
   ]
  },
  {
   "cell_type": "code",
   "execution_count": null,
   "id": "bec4cd12",
   "metadata": {},
   "outputs": [],
   "source": []
  }
 ],
 "metadata": {
  "kernelspec": {
   "display_name": "Python 3 (ipykernel)",
   "language": "python",
   "name": "python3"
  },
  "language_info": {
   "codemirror_mode": {
    "name": "ipython",
    "version": 3
   },
   "file_extension": ".py",
   "mimetype": "text/x-python",
   "name": "python",
   "nbconvert_exporter": "python",
   "pygments_lexer": "ipython3",
   "version": "3.10.4"
  }
 },
 "nbformat": 4,
 "nbformat_minor": 5
}
