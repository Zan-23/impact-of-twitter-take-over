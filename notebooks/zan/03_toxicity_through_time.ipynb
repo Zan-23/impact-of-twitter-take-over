{
 "cells": [
  {
   "cell_type": "markdown",
   "id": "b50772d3",
   "metadata": {},
   "source": [
    "# Toxicity through time"
   ]
  },
  {
   "cell_type": "code",
   "execution_count": null,
   "id": "f0715202",
   "metadata": {
    "scrolled": true
   },
   "outputs": [],
   "source": [
    "%reload_ext autoreload\n",
    "%autoreload 2\n",
    "\n",
    "import os \n",
    "import sys\n",
    "import pandas as pd\n",
    "import numpy as np\n",
    "import plotly \n",
    "import plotly.graph_objects as go\n",
    "import time\n",
    "\n",
    "import nltk\n",
    "from detoxify import Detoxify\n",
    "# nltk.download('stopwords')\n",
    "\n",
    "try:\n",
    "    print(run_only_once)\n",
    "except Exception as e:\n",
    "    print(os.getcwd())\n",
    "    os.chdir(\"./../../\")\n",
    "    print(os.getcwd())\n",
    "    run_only_once = \"Dir has already been changed\""
   ]
  },
  {
   "cell_type": "code",
   "execution_count": null,
   "id": "cea0c562",
   "metadata": {},
   "outputs": [],
   "source": [
    "# \"./data/processed/merged_tweets_and_toxicity_31_12.csv\"\n",
    "tweets_df = pd.read_csv(\"merged_single_pred_toxicity_7_1.csv\")\n",
    "tweets_df[\"created_at\"] = pd.to_datetime(tweets_df[\"created_at\"])\n",
    "display(tweets_df)"
   ]
  },
  {
   "cell_type": "code",
   "execution_count": null,
   "id": "a2899c71",
   "metadata": {},
   "outputs": [],
   "source": [
    "# group by date \n",
    "toxicity_cols = [\"toxicity\", \"severe_toxicity\", \"obscene\", \"threat\", \"insult\", \"identity_attack\"]\n",
    "selected_cols = [\"retweet_count\", \"reply_count\", \"like_count\", \"quote_count\", \"created_at\"] + toxicity_cols\n",
    "grouped_by_day = tweets_df[selected_cols].resample(\"D\", on=\"created_at\").mean()\n",
    "display(grouped_by_day)"
   ]
  },
  {
   "cell_type": "markdown",
   "id": "2b50f4d9",
   "metadata": {},
   "source": [
    "Toxicity metrics through time plotted."
   ]
  },
  {
   "cell_type": "code",
   "execution_count": null,
   "id": "831eb5ac",
   "metadata": {},
   "outputs": [],
   "source": [
    "col_traces = []\n",
    "for column in toxicity_cols:\n",
    "    col_traces.append(\n",
    "        go.Scatter(x=grouped_by_day.index,y=grouped_by_day[column], name=column))\n",
    "    \n",
    "fig = go.Figure(col_traces)\n",
    "fig.update_layout(\n",
    "    title_text=\"Change of toxicity metrics through time\", \n",
    "    yaxis_title=\"Date\",\n",
    "    xaxis_title=\"Mean metric value\",\n",
    ")\n",
    "fig.update_layout(bargap=0.2)\n",
    "fig.show()"
   ]
  },
  {
   "cell_type": "code",
   "execution_count": null,
   "id": "83b53d1a",
   "metadata": {},
   "outputs": [],
   "source": []
  },
  {
   "cell_type": "markdown",
   "id": "2ce64645",
   "metadata": {},
   "source": [
    "## Most and least toxic tweets in our data set"
   ]
  },
  {
   "cell_type": "code",
   "execution_count": null,
   "id": "d4951973",
   "metadata": {},
   "outputs": [],
   "source": [
    "pd.set_option('display.max_colwidth', None)\n",
    "# tweets_df.iloc[4980:5000]\n",
    "tweets_df.nlargest(10, [\"severe_toxicity\"])[[\"author_id\", \"text\"] + toxicity_cols]"
   ]
  },
  {
   "cell_type": "code",
   "execution_count": null,
   "id": "5653f88f",
   "metadata": {},
   "outputs": [],
   "source": [
    "tweets_df.nsmallest(10, [\"severe_toxicity\"])[[\"author_id\", \"text\"] + toxicity_cols]"
   ]
  },
  {
   "cell_type": "markdown",
   "id": "d16accf3",
   "metadata": {},
   "source": [
    "More preprocessing has to be done on tweets to improve the accuracy of the toxicity prediction model because this shit is hillarious."
   ]
  },
  {
   "cell_type": "code",
   "execution_count": null,
   "id": "6e09b3ad",
   "metadata": {},
   "outputs": [],
   "source": [
    "# load the model\n",
    "model = Detoxify('original', device=\"cuda\")\n",
    "\n"
   ]
  },
  {
   "cell_type": "code",
   "execution_count": null,
   "id": "b5cab480",
   "metadata": {},
   "outputs": [],
   "source": [
    "# for single predictions\n",
    "model.predict(\"Big first world problems…but wtf is going on with Netflix app on Roku tv. Like good god. It’s worse than wow on a prepatch/ expansion launch day.\")"
   ]
  },
  {
   "cell_type": "code",
   "execution_count": null,
   "id": "9f1e2722",
   "metadata": {},
   "outputs": [],
   "source": []
  }
 ],
 "metadata": {
  "kernelspec": {
   "display_name": "Python 3 (ipykernel)",
   "language": "python",
   "name": "python3"
  },
  "language_info": {
   "codemirror_mode": {
    "name": "ipython",
    "version": 3
   },
   "file_extension": ".py",
   "mimetype": "text/x-python",
   "name": "python",
   "nbconvert_exporter": "python",
   "pygments_lexer": "ipython3",
   "version": "3.10.4"
  }
 },
 "nbformat": 4,
 "nbformat_minor": 5
}
