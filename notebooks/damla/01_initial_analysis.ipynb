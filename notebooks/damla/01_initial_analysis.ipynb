{
 "cells": [
  {
   "cell_type": "code",
   "execution_count": null,
   "metadata": {},
   "outputs": [
    {
     "ename": "",
     "evalue": "",
     "output_type": "error",
     "traceback": [
      "\u001b[1;31mRunning cells with '/bin/python3.8' requires ipykernel package.\n",
      "\u001b[1;31mRun the following command to install 'ipykernel' into the Python environment. \n",
      "\u001b[1;31mCommand: '/bin/python3.8 -m pip install ipykernel -U --user --force-reinstall'"
     ]
    }
   ],
   "source": [
    "%reload_ext autoreload\n",
    "%autoreload 2\n",
    "\n",
    "import os \n",
    "import sys\n",
    "import pandas as pd\n",
    "import numpy as np\n",
    "import plotly \n",
    "import plotly.graph_objects as go\n",
    "\n",
    "import nltk\n",
    "nltk.download('stopwords')\n",
    "\n",
    "try:\n",
    "    print(run_only_once)\n",
    "except Exception as e:\n",
    "    print(os.getcwd())\n",
    "    os.chdir(\"./../../\")\n",
    "    print(os.getcwd())\n",
    "    run_only_once = \"Dir has already been changed\""
   ]
  },
  {
   "cell_type": "code",
   "execution_count": null,
   "metadata": {},
   "outputs": [],
   "source": [
    "#change the path, if you want to run it in your own device\n",
    "tweets_df = pd.read_csv(\"/home/damlacinel/Desktop/seminar/impact-of-twitter-take-over-main/data/musk_hashtag_03_01_2023.csv\")\n",
    "tweets_text = tweets_df['text'].to_list()"
   ]
  },
  {
   "cell_type": "code",
   "execution_count": null,
   "metadata": {},
   "outputs": [],
   "source": [
    "text_file_neg = open(\"/home/damlacinel/Desktop/seminar/impact-of-twitter-take-over-main/words/negative-words.txt\", \"r\")\n",
    "negative_words = text_file_neg.read().splitlines()\n",
    "text_file_neg.close()\n",
    "\n",
    "text_file_pos = open(\"/home/damlacinel/Desktop/seminar/impact-of-twitter-take-over-main/words/positive-words.txt\", \"r\")\n",
    "positive_words = text_file_pos.read().splitlines()\n",
    "text_file_pos.close()"
   ]
  },
  {
   "cell_type": "code",
   "execution_count": null,
   "metadata": {},
   "outputs": [],
   "source": [
    "import numpy as np\n",
    "NR_SENTIMENTS = 2\n",
    "\n",
    "counts = np.zeros((len(tweets_df), NR_SENTIMENTS), dtype=int)"
   ]
  },
  {
   "cell_type": "code",
   "execution_count": null,
   "metadata": {},
   "outputs": [],
   "source": [
    "for idx, sentence in enumerate(tweets_text):\n",
    "    for word in positive_words:\n",
    "        if word in sentence:\n",
    "            counts[idx, 0] += 1\n",
    "        \n",
    "    for word in negative_words:\n",
    "        if word in sentence:\n",
    "            counts[idx, 1] += 1"
   ]
  },
  {
   "cell_type": "code",
   "execution_count": null,
   "metadata": {},
   "outputs": [],
   "source": [
    "%%capture cap --no-stderr\n",
    "for count, sentence in zip(counts, tweets_text):\n",
    "    print(f\"\\\"{sentence}\\\" contains {count[0]} positive and {count[1]} negative words.\")\n",
    "with open('output.txt', 'w') as f:\n",
    "    f.write(cap.stdout)"
   ]
  }
 ],
 "metadata": {
  "kernelspec": {
   "display_name": "Python 3",
   "language": "python",
   "name": "python3"
  },
  "language_info": {
   "name": "python",
   "version": "3.8.16 (default, Dec  7 2022, 01:12:06) \n[GCC 11.3.0]"
  },
  "orig_nbformat": 4,
  "vscode": {
   "interpreter": {
    "hash": "5b3ded1ccb95c1d9bd405e7b823d9e85424cde40fbb5985eb47e999ef50e15b4"
   }
  }
 },
 "nbformat": 4,
 "nbformat_minor": 2
}
