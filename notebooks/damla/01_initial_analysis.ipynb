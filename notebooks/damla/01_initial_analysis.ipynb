{
 "cells": [
  {
   "cell_type": "code",
   "execution_count": 1,
   "metadata": {},
   "outputs": [
    {
     "name": "stdout",
     "output_type": "stream",
     "text": [
      "/home/damlacinel/Desktop/impact-of-twitter-take-over/notebooks/damla\n",
      "/home/damlacinel/Desktop/impact-of-twitter-take-over\n"
     ]
    },
    {
     "name": "stderr",
     "output_type": "stream",
     "text": [
      "[nltk_data] Downloading package stopwords to\n",
      "[nltk_data]     /home/damlacinel/nltk_data...\n",
      "[nltk_data]   Package stopwords is already up-to-date!\n"
     ]
    }
   ],
   "source": [
    "%reload_ext autoreload\n",
    "%autoreload 2\n",
    "\n",
    "import os \n",
    "import sys\n",
    "import pandas as pd\n",
    "import numpy as np\n",
    "import plotly \n",
    "import plotly.graph_objects as go\n",
    "\n",
    "import nltk\n",
    "nltk.download('stopwords')\n",
    "\n",
    "try:\n",
    "    print(run_only_once)\n",
    "except Exception as e:\n",
    "    print(os.getcwd())\n",
    "    os.chdir(\"./../../\")\n",
    "    print(os.getcwd())\n",
    "    run_only_once = \"Dir has already been changed\""
   ]
  },
  {
   "cell_type": "code",
   "execution_count": 2,
   "metadata": {},
   "outputs": [],
   "source": [
    "#change the path, if you want to run it in your own device\n",
    "tweets_df = pd.read_csv(\"/home/damlacinel/Desktop/seminar/impact-of-twitter-take-over-main/data/musk_hashtag_03_01_2023.csv\")\n",
    "tweets_text = tweets_df['text'].to_list()"
   ]
  },
  {
   "cell_type": "code",
   "execution_count": 3,
   "metadata": {},
   "outputs": [],
   "source": [
    "text_file_neg = open(\"/home/damlacinel/Desktop/seminar/impact-of-twitter-take-over-main/words/negative-words.txt\", \"r\")\n",
    "negative_words = text_file_neg.read().splitlines()\n",
    "text_file_neg.close()\n",
    "\n",
    "text_file_pos = open(\"/home/damlacinel/Desktop/seminar/impact-of-twitter-take-over-main/words/positive-words.txt\", \"r\")\n",
    "positive_words = text_file_pos.read().splitlines()\n",
    "text_file_pos.close()"
   ]
  },
  {
   "cell_type": "code",
   "execution_count": 4,
   "metadata": {},
   "outputs": [],
   "source": [
    "import numpy as np\n",
    "NR_SENTIMENTS = 2\n",
    "\n",
    "counts = np.zeros((len(tweets_df), NR_SENTIMENTS), dtype=int)"
   ]
  },
  {
   "cell_type": "code",
   "execution_count": null,
   "metadata": {},
   "outputs": [],
   "source": [
    "for idx, sentence in enumerate(tweets_text):\n",
    "    for word in positive_words:\n",
    "        if word in sentence:\n",
    "            counts[idx, 0] += 1\n",
    "        \n",
    "    for word in negative_words:\n",
    "        if word in sentence:\n",
    "            counts[idx, 1] += 1"
   ]
  },
  {
   "cell_type": "code",
   "execution_count": null,
   "metadata": {},
   "outputs": [],
   "source": [
    "%%capture cap --no-stderr\n",
    "for count, sentence in zip(counts, tweets_text):\n",
    "    print(f\"\\\"{sentence}\\\" contains {count[0]} positive and {count[1]} negative words.\")\n",
    "with open('output.txt', 'w') as f:\n",
    "    f.write(cap.stdout)"
   ]
  }
 ],
 "metadata": {
  "kernelspec": {
   "display_name": "Python 3",
   "language": "python",
   "name": "python3"
  },
  "language_info": {
   "codemirror_mode": {
    "name": "ipython",
    "version": 3
   },
   "file_extension": ".py",
   "mimetype": "text/x-python",
   "name": "python",
   "nbconvert_exporter": "python",
   "pygments_lexer": "ipython3",
   "version": "3.10.6"
  },
  "orig_nbformat": 4,
  "vscode": {
   "interpreter": {
    "hash": "916dbcbb3f70747c44a77c7bcd40155683ae19c65e1c03b4aa3499c5328201f1"
   }
  }
 },
 "nbformat": 4,
 "nbformat_minor": 2
}
