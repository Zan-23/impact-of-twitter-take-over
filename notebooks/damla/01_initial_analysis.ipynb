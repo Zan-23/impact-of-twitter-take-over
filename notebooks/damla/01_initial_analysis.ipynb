{
 "cells": [
  {
   "cell_type": "code",
   "execution_count": null,
   "metadata": {},
   "outputs": [],
   "source": [
    "%reload_ext autoreload\n",
    "%autoreload 2\n",
    "\n",
    "import os \n",
    "import sys\n",
    "import pandas as pd\n",
    "import numpy as np\n",
    "import plotly \n",
    "import plotly.graph_objects as go\n",
    "\n",
    "import nltk\n",
    "nltk.download('stopwords')\n",
    "\n",
    "try:\n",
    "    print(run_only_once)\n",
    "except Exception as e:\n",
    "    print(os.getcwd())\n",
    "    os.chdir(\"./../../\")\n",
    "    print(os.getcwd())\n",
    "    run_only_once = \"Dir has already been changed\""
   ]
  },
  {
   "cell_type": "code",
   "execution_count": 122,
   "metadata": {},
   "outputs": [],
   "source": [
    "#change the path, if you want to run it in your own device\n",
    "tweets_df_musk = pd.read_csv(\"/home/damlacinel/Desktop/seminar/impact-of-twitter-take-over-main/data/musk_hashtag_03_01_2023.csv\")\n",
    "tweets_text_musk = tweets_df_musk['text'].to_list()"
   ]
  },
  {
   "cell_type": "code",
   "execution_count": 123,
   "metadata": {},
   "outputs": [],
   "source": [
    "tweets_df_fitness = pd.read_csv(\"/home/damlacinel/Desktop/seminar/impact-of-twitter-take-over-main/data/fitness_hashtag_08_01_2023.csv\")\n",
    "tweets_text_fitness = tweets_df_fitness['text'].to_list()"
   ]
  },
  {
   "cell_type": "code",
   "execution_count": 124,
   "metadata": {},
   "outputs": [],
   "source": [
    "tweets_df_trump = pd.read_csv(\"/home/damlacinel/Desktop/seminar/impact-of-twitter-take-over-main/data/trump_hashtag_04_01_2023.csv\")\n",
    "tweets_text_trump = tweets_df_trump['text'].to_list()"
   ]
  },
  {
   "cell_type": "code",
   "execution_count": 125,
   "metadata": {},
   "outputs": [],
   "source": [
    "tweets_df_netflix = pd.read_csv(\"/home/damlacinel/Desktop/seminar/impact-of-twitter-take-over-main/data/netflix_hashtag_08_01_2023.csv\")\n",
    "tweets_text_netflix = tweets_df_netflix['text'].to_list()"
   ]
  },
  {
   "cell_type": "code",
   "execution_count": 126,
   "metadata": {},
   "outputs": [],
   "source": [
    "tweets_df_uno = pd.read_csv(\"/home/damlacinel/Desktop/seminar/impact-of-twitter-take-over-main/data/uno_hashtag_09_01_2023.csv\")\n",
    "tweets_text_uno = tweets_df_uno['text'].to_list()"
   ]
  },
  {
   "cell_type": "code",
   "execution_count": 127,
   "metadata": {},
   "outputs": [],
   "source": [
    "tweets_df_vegan = pd.read_csv(\"/home/damlacinel/Desktop/seminar/impact-of-twitter-take-over-main/data/vegan_hashtag_6_1_2023.csv\")\n",
    "tweets_text_vegan = tweets_df_vegan['text'].to_list()"
   ]
  },
  {
   "cell_type": "code",
   "execution_count": 128,
   "metadata": {},
   "outputs": [],
   "source": [
    "tweets_df_vegetarian = pd.read_csv(\"/home/damlacinel/Desktop/seminar/impact-of-twitter-take-over-main/data/vegetarian_hashtag_6_1_2023.csv\")\n",
    "tweets_text_vegetarian = tweets_df_vegetarian['text'].to_list()"
   ]
  },
  {
   "cell_type": "code",
   "execution_count": 129,
   "metadata": {},
   "outputs": [],
   "source": [
    "text_file_neg = open(\"/home/damlacinel/Desktop/seminar/impact-of-twitter-take-over-main/words/negative-words.txt\", \"r\")\n",
    "negative_words = text_file_neg.read().splitlines()\n",
    "text_file_neg.close()\n",
    "\n",
    "text_file_pos = open(\"/home/damlacinel/Desktop/seminar/impact-of-twitter-take-over-main/words/positive-words.txt\", \"r\")\n",
    "positive_words = text_file_pos.read().splitlines()\n",
    "text_file_pos.close()"
   ]
  },
  {
   "cell_type": "code",
   "execution_count": 130,
   "metadata": {},
   "outputs": [],
   "source": [
    "import numpy as np\n",
    "NR_SENTIMENTS = 2\n",
    "\n",
    "#(len(tweets_df_musk)\n",
    "\n",
    "counts_musk = np.zeros((len(tweets_df_musk), NR_SENTIMENTS), dtype=int)"
   ]
  },
  {
   "cell_type": "code",
   "execution_count": 131,
   "metadata": {},
   "outputs": [],
   "source": [
    "for idx, sentence in enumerate(tweets_text_musk):\n",
    "    for word in positive_words:\n",
    "        if word in sentence:\n",
    "            counts_musk[idx, 0] += 1\n",
    "        \n",
    "    for word in negative_words:\n",
    "        if word in sentence:\n",
    "            counts_musk[idx, 1] += 1       "
   ]
  },
  {
   "cell_type": "code",
   "execution_count": 132,
   "metadata": {},
   "outputs": [],
   "source": [
    "sum_negative_musk = 0\n",
    "for i in range(len(counts_musk)):\n",
    "  sum_negative_musk += counts_musk[i,1]\n",
    "\n",
    "sum_positive_musk = 0\n",
    "for j in range(len(counts_musk)) :\n",
    "  sum_positive_musk += counts_musk[j,0]\n",
    "\n",
    "average_pos_musk = sum_positive_musk / len(counts_musk)\n",
    "average_neg_musk = sum_negative_musk / len(counts_musk)"
   ]
  },
  {
   "cell_type": "code",
   "execution_count": 133,
   "metadata": {},
   "outputs": [],
   "source": [
    "import numpy as np\n",
    "NR_SENTIMENTS = 2\n",
    "\n",
    "#(len(tweets_df_musk)\n",
    "\n",
    "counts_fitness = np.zeros((len(tweets_df_fitness), NR_SENTIMENTS), dtype=int)"
   ]
  },
  {
   "cell_type": "code",
   "execution_count": 134,
   "metadata": {},
   "outputs": [],
   "source": [
    "for idx, sentence in enumerate(tweets_text_fitness):\n",
    "    for word in positive_words:\n",
    "        if word in sentence:\n",
    "            counts_fitness[idx, 0] += 1\n",
    "        \n",
    "    for word in negative_words:\n",
    "        if word in sentence:\n",
    "            counts_fitness[idx, 1] += 1   "
   ]
  },
  {
   "cell_type": "code",
   "execution_count": 135,
   "metadata": {},
   "outputs": [],
   "source": [
    "sum_negative_fitness = 0\n",
    "for i in range(len(counts_fitness)):\n",
    "  sum_negative_fitness += counts_fitness[i,1]\n",
    "\n",
    "sum_positive_fitness = 0\n",
    "for j in range(len(counts_fitness)) :\n",
    "  sum_positive_fitness += counts_fitness[j,0]\n",
    "\n",
    "average_pos_fitness = sum_positive_fitness / len(counts_musk)\n",
    "average_neg_fitness = sum_negative_fitness / len(counts_musk)"
   ]
  },
  {
   "cell_type": "code",
   "execution_count": 136,
   "metadata": {},
   "outputs": [],
   "source": [
    "import numpy as np\n",
    "NR_SENTIMENTS = 2\n",
    "\n",
    "counts_trump = np.zeros((len(tweets_df_trump), NR_SENTIMENTS), dtype=int)"
   ]
  },
  {
   "cell_type": "code",
   "execution_count": 137,
   "metadata": {},
   "outputs": [],
   "source": [
    "for idx, sentence in enumerate(tweets_text_trump):\n",
    "    for word in positive_words:\n",
    "        if word in sentence:\n",
    "            counts_trump[idx, 0] += 1\n",
    "        \n",
    "    for word in negative_words:\n",
    "        if word in sentence:\n",
    "            counts_trump[idx, 1] += 1   "
   ]
  },
  {
   "cell_type": "code",
   "execution_count": 138,
   "metadata": {},
   "outputs": [],
   "source": [
    "sum_negative_trump = 0\n",
    "for i in range(len(counts_trump)):\n",
    "  sum_negative_trump += counts_trump[i,1]\n",
    "\n",
    "sum_positive_trump = 0\n",
    "for j in range(len(counts_trump)) :\n",
    "  sum_positive_trump += counts_trump[j,0]\n",
    "\n",
    "average_pos_trump = sum_positive_trump / len(counts_musk)\n",
    "average_neg_trump = sum_negative_trump / len(counts_musk)"
   ]
  },
  {
   "cell_type": "code",
   "execution_count": 139,
   "metadata": {},
   "outputs": [],
   "source": [
    "import numpy as np\n",
    "NR_SENTIMENTS = 2\n",
    "\n",
    "counts_netflix = np.zeros((len(tweets_df_netflix), NR_SENTIMENTS), dtype=int)"
   ]
  },
  {
   "cell_type": "code",
   "execution_count": 140,
   "metadata": {},
   "outputs": [],
   "source": [
    "for idx, sentence in enumerate(tweets_text_netflix):\n",
    "    for word in positive_words:\n",
    "        if word in sentence:\n",
    "            counts_netflix[idx, 0] += 1\n",
    "        \n",
    "    for word in negative_words:\n",
    "        if word in sentence:\n",
    "            counts_netflix[idx, 1] += 1  "
   ]
  },
  {
   "cell_type": "code",
   "execution_count": 141,
   "metadata": {},
   "outputs": [],
   "source": [
    "sum_negative_netflix = 0\n",
    "for i in range(len(counts_netflix)):\n",
    "  sum_negative_netflix += counts_netflix[i,1]\n",
    "\n",
    "sum_positive_netflix = 0\n",
    "for j in range(len(counts_netflix)) :\n",
    "  sum_positive_netflix += counts_netflix[j,0]\n",
    "\n",
    "average_pos_netflix = sum_positive_netflix / len(counts_musk)\n",
    "average_neg_netflix = sum_negative_netflix / len(counts_musk)"
   ]
  },
  {
   "cell_type": "code",
   "execution_count": 142,
   "metadata": {},
   "outputs": [],
   "source": [
    "import numpy as np\n",
    "NR_SENTIMENTS = 2\n",
    "\n",
    "counts_uno = np.zeros((len(tweets_df_uno), NR_SENTIMENTS), dtype=int)"
   ]
  },
  {
   "cell_type": "code",
   "execution_count": 143,
   "metadata": {},
   "outputs": [],
   "source": [
    "for idx, sentence in enumerate(tweets_text_uno):\n",
    "    for word in positive_words:\n",
    "        if word in sentence:\n",
    "            counts_uno[idx, 0] += 1\n",
    "        \n",
    "    for word in negative_words:\n",
    "        if word in sentence:\n",
    "            counts_uno[idx, 1] += 1  "
   ]
  },
  {
   "cell_type": "code",
   "execution_count": 144,
   "metadata": {},
   "outputs": [],
   "source": [
    "sum_negative_uno = 0\n",
    "for i in range(len(counts_uno)):\n",
    "  sum_negative_uno += counts_uno[i,1]\n",
    "\n",
    "sum_positive_uno = 0\n",
    "for j in range(len(counts_uno)) :\n",
    "  sum_positive_uno += counts_uno[j,0]\n",
    "\n",
    "average_pos_uno = sum_positive_uno / len(counts_musk)\n",
    "average_neg_uno = sum_negative_uno / len(counts_musk)"
   ]
  },
  {
   "cell_type": "code",
   "execution_count": 145,
   "metadata": {},
   "outputs": [],
   "source": [
    "import numpy as np\n",
    "NR_SENTIMENTS = 2\n",
    "\n",
    "counts_vegan = np.zeros((len(tweets_df_vegan), NR_SENTIMENTS), dtype=int)"
   ]
  },
  {
   "cell_type": "code",
   "execution_count": 146,
   "metadata": {},
   "outputs": [],
   "source": [
    "for idx, sentence in enumerate(tweets_text_vegan):\n",
    "    for word in positive_words:\n",
    "        if word in sentence:\n",
    "            counts_vegan[idx, 0] += 1\n",
    "        \n",
    "    for word in negative_words:\n",
    "        if word in sentence:\n",
    "            counts_vegan[idx, 1] += 1  "
   ]
  },
  {
   "cell_type": "code",
   "execution_count": 147,
   "metadata": {},
   "outputs": [],
   "source": [
    "sum_negative_vegan = 0\n",
    "for i in range(len(counts_vegan)):\n",
    "  sum_negative_vegan += counts_vegan[i,1]\n",
    "\n",
    "sum_positive_vegan = 0\n",
    "for j in range(len(counts_vegan)) :\n",
    "  sum_positive_vegan += counts_vegan[j,0]\n",
    "\n",
    "average_pos_vegan = sum_positive_vegan / len(counts_musk)\n",
    "average_neg_vegan = sum_negative_vegan / len(counts_musk)"
   ]
  },
  {
   "cell_type": "code",
   "execution_count": 148,
   "metadata": {},
   "outputs": [],
   "source": [
    "import numpy as np\n",
    "NR_SENTIMENTS = 2\n",
    "\n",
    "counts_vegetarian = np.zeros((len(tweets_df_vegetarian), NR_SENTIMENTS), dtype=int)"
   ]
  },
  {
   "cell_type": "code",
   "execution_count": 149,
   "metadata": {},
   "outputs": [],
   "source": [
    "for idx, sentence in enumerate(tweets_text_vegetarian):\n",
    "    for word in positive_words:\n",
    "        if word in sentence:\n",
    "            counts_vegetarian[idx, 0] += 1\n",
    "        \n",
    "    for word in negative_words:\n",
    "        if word in sentence:\n",
    "            counts_vegetarian[idx, 1] += 1  "
   ]
  },
  {
   "cell_type": "code",
   "execution_count": 150,
   "metadata": {},
   "outputs": [],
   "source": [
    "sum_negative_vegetarian = 0\n",
    "for i in range(len(counts_vegetarian)):\n",
    "  sum_negative_vegetarian += counts_vegetarian[i,1]\n",
    "\n",
    "sum_positive_vegetarian = 0\n",
    "for j in range(len(counts_vegetarian)) :\n",
    "  sum_positive_vegetarian += counts_vegetarian[j,0]\n",
    "\n",
    "average_pos_vegetarian = sum_positive_vegetarian / len(counts_musk)\n",
    "average_neg_vegetarian = sum_negative_vegetarian / len(counts_musk)\n"
   ]
  },
  {
   "cell_type": "code",
   "execution_count": 165,
   "metadata": {},
   "outputs": [
    {
     "name": "stdout",
     "output_type": "stream",
     "text": [
      "Sum of negative words in #musk : 1438353\n",
      "Sum of positive words in #musk : 957302\n",
      "Sum of negative words in #fitness : 472033\n",
      "Sum of positive words in #fitness : 427701\n",
      "Sum of negative words in #trump : 213027\n",
      "Sum of positive words in #trump : 112932\n",
      "Sum of negative words in #netflix : 2221969\n",
      "Sum of positive words in #netflix : 1578836\n",
      "Sum of negative words in #uno : 120171\n",
      "Sum of positive words in #uno : 79897\n",
      "Sum of negative words in #vegan : 412510\n",
      "Sum of positive words in #vegan : 268125\n",
      "Sum of negative words in #vegetarian : 118101\n",
      "Sum of positive words in #vegetarian : 79833\n"
     ]
    }
   ],
   "source": [
    "print(\"Sum of negative words in #musk : {}\".format(sum_negative_musk))\n",
    "print(\"Sum of positive words in #musk : {}\".format(sum_positive_musk))\n",
    "print(\"Sum of negative words in #fitness : {}\".format(sum_negative_fitness))\n",
    "print(\"Sum of positive words in #fitness : {}\".format(sum_positive_fitness))\n",
    "print(\"Sum of negative words in #trump : {}\".format(sum_negative_trump))\n",
    "print(\"Sum of positive words in #trump : {}\".format(sum_positive_trump))\n",
    "print(\"Sum of negative words in #netflix : {}\".format(sum_negative_netflix))\n",
    "print(\"Sum of positive words in #netflix : {}\".format(sum_positive_netflix))\n",
    "print(\"Sum of negative words in #uno : {}\".format(sum_negative_uno))\n",
    "print(\"Sum of positive words in #uno : {}\".format(sum_positive_uno))\n",
    "print(\"Sum of negative words in #vegan : {}\".format(sum_negative_vegan))\n",
    "print(\"Sum of positive words in #vegan : {}\".format(sum_positive_vegan))\n",
    "print(\"Sum of negative words in #vegetarian : {}\".format(sum_negative_vegetarian))\n",
    "print(\"Sum of positive words in #vegetarian : {}\".format(sum_positive_vegetarian))\n"
   ]
  },
  {
   "cell_type": "code",
   "execution_count": null,
   "metadata": {},
   "outputs": [],
   "source": [
    "import numpy as np\n",
    "import matplotlib.pyplot as plt\n",
    "\n",
    "N = 7\n",
    "positive_means = (sum_positive_musk,sum_positive_fitness, sum_positive_trump, sum_positive_netflix, sum_positive_uno, sum_positive_vegan, sum_positive_vegetarian)\n",
    "negative_means = (sum_negative_musk, sum_negative_fitness, sum_negative_trump, sum_negative_netflix, sum_negative_uno, sum_negative_vegan, sum_negative_vegetarian)\n",
    "ind = np.arange(N)  # the x locations for the groups\n",
    "width = 0.35  \n",
    "\n",
    "fig, ax = plt.subplots()\n",
    "rects1 = ax.bar(ind, positive_means, width, color='r')\n",
    "rects2 = ax.bar(ind + width, negative_means, width, color='y')\n",
    "\n",
    "# add some text for labels, title and axes ticks\n",
    "ax.set_ylabel('Sum of positive and negative word counts')\n",
    "ax.set_xticks(ind + width / 2)\n",
    "ax.set_xticklabels(('#musk', '#fitness', '#trump', '#netflix', '#uno', '#vegan', '#vegetarian'))\n",
    "\n",
    "ax.legend((rects1[0], rects2[0]), ('Sum of Positive Words', 'Sum of Negative Words'))\n",
    "\n",
    "def autolabel(rects):\n",
    "    \"\"\"\n",
    "    Attach a text label above each bar displaying its height\n",
    "    \"\"\"\n",
    "    for rect in rects:\n",
    "        height = rect.get_height()\n",
    "        ax.text(rect.get_x() + rect.get_width()/1.95 , 1.05 * height,\n",
    "                '%d' % int(height),\n",
    "                ha='center', va='bottom')\n",
    "\n",
    "autolabel(rects1)\n",
    "autolabel(rects2)\n",
    "\n",
    "plt.show()"
   ]
  },
  {
   "cell_type": "code",
   "execution_count": 151,
   "metadata": {},
   "outputs": [
    {
     "data": {
      "image/png": "[encoded data removed]",
      "text/plain": [
       "<Figure size 640x480 with 1 Axes>"
      ]
     },
     "metadata": {},
     "output_type": "display_data"
    }
   ],
   "source": [
    "import numpy as np\n",
    "import matplotlib.pyplot as plt\n",
    "\n",
    "N = 7\n",
    "pos_means = (average_pos_musk,average_pos_fitness, average_pos_trump, average_pos_netflix, average_pos_uno, average_pos_vegan, average_pos_vegetarian)\n",
    "neg_means = (average_neg_musk, average_neg_fitness, average_neg_trump, average_neg_netflix, average_neg_uno, average_neg_vegan, average_neg_vegetarian)\n",
    "ind = np.arange(N)  # the x locations for the groups\n",
    "width = 0.5  \n",
    "\n",
    "fig, ax = plt.subplots()\n",
    "rects1 = ax.bar(ind, pos_means, width, color='r')\n",
    "rects2 = ax.bar(ind + width, neg_means, width, color='y')\n",
    "\n",
    "# add some text for labels, title and axes ticks\n",
    "ax.set_ylabel('Average positive and negative word counts')\n",
    "ax.set_xticks(ind + width / 2)\n",
    "ax.set_xticklabels(('#musk', '#fitness', '#trump', '#netflix', '#uno', '#vegan', '#vegetarian'))\n",
    "\n",
    "ax.legend((rects1[0], rects2[0]), ('Average Positive Words', 'Average Negative Words'))\n",
    "\n",
    "def autolabel(rects):\n",
    "    \"\"\"\n",
    "    Attach a text label above each bar displaying its height\n",
    "    \"\"\"\n",
    "    for rect in rects:\n",
    "        height = rect.get_height()\n",
    "        ax.text(rect.get_x() + rect.get_width()/2., 1.05*height,\n",
    "                '%d' % int(height),\n",
    "                ha='center', va='bottom')\n",
    "\n",
    "autolabel(rects1)\n",
    "autolabel(rects2)\n",
    "\n",
    "plt.show()\n",
    "\n"
   ]
  },
  {
   "cell_type": "code",
   "execution_count": 25,
   "metadata": {},
   "outputs": [
    {
     "data": {
      "image/png": "[encoded data removed]",
      "text/plain": [
       "<Figure size 640x480 with 1 Axes>"
      ]
     },
     "metadata": {},
     "output_type": "display_data"
    }
   ],
   "source": [
    "import matplotlib.pyplot as plt\n",
    "from matplotlib.ticker import ScalarFormatter, FormatStrFormatter\n",
    "\n",
    "labels = ['#musk', '#fitness', '#trump', '#netflix', '#uno', '#vegan', '#vegetarian']\n",
    "positive_means = [957302, 427701, 112932, 1578836, 79897, 268125, 79833]\n",
    "negative_means = [1438353, 472033, 213027, 2221969, 120171, 412510, 118101]\n",
    "     # the width of the bars: can also be len(x) sequence\n",
    "\n",
    "fig, ax = plt.subplots()\n",
    "\n",
    "plt.bar(labels, positive_means, color = 'r', label='Positive Word Count')\n",
    "plt.bar(labels, negative_means, color = 'b', bottom=positive_means, label='Negative Word Count')\n",
    "\n",
    "ax.set_ylabel('Word Counts')\n",
    "ax.set_title('Positive and Negative Word Counts by Hashtags')\n",
    "ax.legend()\n",
    "\n",
    "ax.ticklabel_format(useOffset=False, style='plain', axis='y')\n",
    "plt.draw()"
   ]
  }
 ],
 "metadata": {
  "kernelspec": {
   "display_name": "Python 3",
   "language": "python",
   "name": "python3"
  },
  "language_info": {
   "codemirror_mode": {
    "name": "ipython",
    "version": 3
   },
   "file_extension": ".py",
   "mimetype": "text/x-python",
   "name": "python",
   "nbconvert_exporter": "python",
   "pygments_lexer": "ipython3",
   "version": "3.10.6"
  },
  "orig_nbformat": 4,
  "vscode": {
   "interpreter": {
    "hash": "916dbcbb3f70747c44a77c7bcd40155683ae19c65e1c03b4aa3499c5328201f1"
   }
  }
 },
 "nbformat": 4,
 "nbformat_minor": 2
}
